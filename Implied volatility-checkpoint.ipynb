{
 "cells": [
  {
   "cell_type": "code",
   "execution_count": null,
   "id": "349e828b",
   "metadata": {},
   "outputs": [],
   "source": [
    "import scipy.stats as st\n",
    "import numpy as np\n",
    "\n",
    "def Black_Scholes_option_pricing(\n",
    "        c_p: str, #買權或賣權，輸入 'call'或是'put' V\n",
    "        s: float, #資產價格\n",
    "        k: float, #履約價格 V\n",
    "        r: float, #無風險利率\n",
    "        v: float, #波動度(歷史波動率) V\n",
    "        q: float, #殖利率(股票殖利率 = 現金股利 ÷ 股價)\n",
    "        t: float #到期日(年) V\n",
    ") -> float:\n",
    "    \n",
    "    d1 = (np.log(s/k) + (r + v**2 / 2)*t) / (v*t**0.5) #在風險中立的世界中，資產價格相不低於K的機率\n",
    "    d2 = (np.log(s/k) + (r - v**2 / 2)*t) / (v*t**0.5) #執行選擇權的機率\n",
    "\n",
    "    call = s*st.norm.cdf(d1) - k*np.exp(-r*t)*st.norm.cdf(d2)\n",
    "    put = k*np.exp(-r*t)*st.norm.cdf(-d2) - s*st.norm.cdf(-d1)\n",
    "    #做多(call)或做空(put)\n",
    "    \n",
    "    if c_p == 'call':\n",
    "        return max(call, 0)\n",
    "    elif c_p == 'put':\n",
    "        return max(put, 0)\n",
    "    else:\n",
    "        raise ValueError('Wrong c_p.')"
   ]
  }
 ],
 "metadata": {
  "kernelspec": {
   "display_name": "Python 3 (ipykernel)",
   "language": "python",
   "name": "python3"
  },
  "language_info": {
   "codemirror_mode": {
    "name": "ipython",
    "version": 3
   },
   "file_extension": ".py",
   "mimetype": "text/x-python",
   "name": "python",
   "nbconvert_exporter": "python",
   "pygments_lexer": "ipython3",
   "version": "3.9.7"
  }
 },
 "nbformat": 4,
 "nbformat_minor": 5
}
